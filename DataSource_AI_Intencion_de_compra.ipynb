{
  "nbformat": 4,
  "nbformat_minor": 0,
  "metadata": {
    "colab": {
      "name": "DataSource.AI_Intencion_de_compra.ipynb",
      "provenance": [],
      "mount_file_id": "15VXorKLEUXHBAt_zezl8CMiYK33Osbl1",
      "authorship_tag": "ABX9TyNTSNYLVFC33I4gokBZgIzT",
      "include_colab_link": true
    },
    "kernelspec": {
      "name": "python3",
      "display_name": "Python 3"
    },
    "language_info": {
      "name": "python"
    }
  },
  "cells": [
    {
      "cell_type": "markdown",
      "metadata": {
        "id": "view-in-github",
        "colab_type": "text"
      },
      "source": [
        "<a href=\"https://colab.research.google.com/github/DiegoCorona/DataSource.AI_Competencia_Prediccion_de_Intencion_de_compra/blob/main/DataSource_AI_Intencion_de_compra.ipynb\" target=\"_parent\"><img src=\"https://colab.research.google.com/assets/colab-badge.svg\" alt=\"Open In Colab\"/></a>"
      ]
    },
    {
      "cell_type": "markdown",
      "metadata": {
        "id": "SV6TSIlGCKn1"
      },
      "source": [
        "# **Predicción de la intención de compra.**\n",
        "\n",
        "Este proyecto es parte de las **competencias** realizadas por [DataSource.AI](https://www.datasource.ai/es/home/data-science-competitions-for-startups), la cual buscá que los usuarios puedan prácticar la aplicación de técnicas en Ciencia de Datos para resolver problemas prácticos.\n",
        "\n",
        "Esté proyecto busca analizar el comportamiento de usuarios y predecir la intención de compra en una página web. "
      ]
    },
    {
      "cell_type": "markdown",
      "metadata": {
        "id": "9Xnf3veBDJnf"
      },
      "source": [
        "## Descripción\n",
        "\n",
        "*En esta competencia, analizaremos la actividad de los usuarios que visitan un servicio ofrecido por medio de un sitio web.  El objetivo será predecir que visitantes decidirán comprar de acuerdo a las características e interacciones que ejecuten en la página. Se toman en cuenta datos como Bounce rate, Month, Pages Values, Operating System, Duration, Period Related y muchos más.*\n",
        "\n",
        "*En este caso especial, tendremos un problema de clasificación.*\n"
      ]
    },
    {
      "cell_type": "markdown",
      "metadata": {
        "id": "AxIQDxglrmrG"
      },
      "source": [
        "El dataset se encuentra aqui: https://www.datasource.ai/es/home/data-science-competitions-for-startups/prediccion-de-la-intencion-de-compra-en-una-pagina-web\n",
        "\n",
        "\n",
        "## Descripción de los Datos:\n",
        "\n",
        "El conjunto de datos corresponde a 12.330 sesiones únicas por usuario, las cuales se dividen en\n",
        "\n",
        "- 8.631 para el conjunto de entrenamiento Train.csv\n",
        "- 3.699 para el conjunto de test Test.csv\n",
        "\n",
        "Dicha información fue obtenida a lo largo de 12 meses para evitar tendencias de días especiales o campañas específicas. \n",
        "\n",
        "\n",
        "## Definición de las variables: \n",
        "\n",
        "- id: ID único del visitante al sitio web\n",
        "- administrative: Número de veces que el usuario visitó la sección administrativa\n",
        "\n",
        "- administrative_duration: Tiempo total que el usuario duro en la sección administrativa\n",
        "\n",
        "- informational: Número de veces que el usuario visitó la sección informativa\n",
        "- informational_duration: Tiempo total que el usuario duro en la sección informativa\n",
        "\n",
        "- productrelated: Número de veces que el usuario visitó la sección de productos relacionados\n",
        "\n",
        "- productrelated_duration: Tiempo total que el usuario duro en la sección de productos relacionados\n",
        "\n",
        "- bouncerates:  Es el porcentaje de visitantes que ingresan a la página y “rebotan” inmediatamente sin interactuar con ella. Solo se tiene en cuenta esta métrica, si es la primera página que visitan dentro del sitio web.\n",
        "exitrates: Del número total de visitas a las páginas del sitio web, se obtiene el porcentaje de visitas que cerró sesión a través de esta página específica, es decir, indica el porcentaje de usuarios cuya última visita al sitio web fue esta página específica.\n",
        "\n",
        "- pagevalues: Es el valor promedio de la página web, indica la contribución que realizó dicha página web para que el visitante llegara a la página o sección final de compra. \n",
        "\n",
        "- specialday: Es el valor que indica la cercanía a una fecha especial como lo es por ejemplo el día de San Valentín.  El rango de esta variable es de 0 a 1, siendo 1 el día exacto de la fecha especial y 0 si no hay un rango cercano a dicha fecha.\n",
        "\n",
        "- month: Mes de la visita al sitio web.\n",
        "\n",
        "- operatingsystems: Tipo de sistema operativo\n",
        "\n",
        "- browser: Nombre del explorador web\n",
        "\n",
        "- region: Región geográfica del visitante\n",
        "\n",
        "- traffictype: Tipo de tráfico web\n",
        "\n",
        "- visitortype: Si es un visitante nuevo o un visitante que regresa\n",
        "\n",
        "- weekend: 0 indica que no es un día del fin de semana y 1 indica que si es un día del fin de semana.\n",
        "\n",
        "## Variable objetivo:\n",
        "\n",
        "- revenue: Variable a clasificar, 1 indica que el visitante compró y 0 indica que el visitante no compro.\n"
      ]
    },
    {
      "cell_type": "markdown",
      "metadata": {
        "id": "oG2ffYjEF0q_"
      },
      "source": [
        "## **Desarrollo**"
      ]
    },
    {
      "cell_type": "markdown",
      "metadata": {
        "id": "OfMgWbac2gZz"
      },
      "source": [
        "Las paqueterías que se van a utilizar son las básicas para Ciencias de Datos: *Pandas, Seaborn, Sklearn*"
      ]
    },
    {
      "cell_type": "code",
      "metadata": {
        "colab": {
          "base_uri": "https://localhost:8080/"
        },
        "id": "cB0VWqy7jL1v",
        "outputId": "effde8b7-95c0-40e9-dd61-f4e9a5e6001f"
      },
      "source": [
        "!pip install imblearn"
      ],
      "execution_count": 1,
      "outputs": [
        {
          "output_type": "stream",
          "text": [
            "Requirement already satisfied: imblearn in /usr/local/lib/python3.7/dist-packages (0.0)\n",
            "Requirement already satisfied: imbalanced-learn in /usr/local/lib/python3.7/dist-packages (from imblearn) (0.4.3)\n",
            "Requirement already satisfied: scipy>=0.13.3 in /usr/local/lib/python3.7/dist-packages (from imbalanced-learn->imblearn) (1.4.1)\n",
            "Requirement already satisfied: scikit-learn>=0.20 in /usr/local/lib/python3.7/dist-packages (from imbalanced-learn->imblearn) (0.22.2.post1)\n",
            "Requirement already satisfied: numpy>=1.8.2 in /usr/local/lib/python3.7/dist-packages (from imbalanced-learn->imblearn) (1.19.5)\n",
            "Requirement already satisfied: joblib>=0.11 in /usr/local/lib/python3.7/dist-packages (from scikit-learn>=0.20->imbalanced-learn->imblearn) (1.0.1)\n"
          ],
          "name": "stdout"
        }
      ]
    },
    {
      "cell_type": "code",
      "metadata": {
        "id": "o6-zvdrornh5"
      },
      "source": [
        "import pandas as pd\n",
        "import seaborn as sns\n",
        "from sklearn.model_selection import train_test_split\n"
      ],
      "execution_count": 2,
      "outputs": []
    },
    {
      "cell_type": "code",
      "metadata": {
        "id": "6Cs0UKjVqzh4"
      },
      "source": [
        "url = '/content/drive/MyDrive/DataSource.AI/Dataset - Intencion de compra/Train.csv'"
      ],
      "execution_count": 3,
      "outputs": []
    },
    {
      "cell_type": "code",
      "metadata": {
        "colab": {
          "base_uri": "https://localhost:8080/",
          "height": 253
        },
        "id": "AM3NgEUbrqUl",
        "outputId": "5f50493c-39d2-4144-f8a7-ea063ada6496"
      },
      "source": [
        "df = pd.read_csv(url, index_col= 0)\n",
        "df.head()"
      ],
      "execution_count": 4,
      "outputs": [
        {
          "output_type": "execute_result",
          "data": {
            "text/html": [
              "<div>\n",
              "<style scoped>\n",
              "    .dataframe tbody tr th:only-of-type {\n",
              "        vertical-align: middle;\n",
              "    }\n",
              "\n",
              "    .dataframe tbody tr th {\n",
              "        vertical-align: top;\n",
              "    }\n",
              "\n",
              "    .dataframe thead th {\n",
              "        text-align: right;\n",
              "    }\n",
              "</style>\n",
              "<table border=\"1\" class=\"dataframe\">\n",
              "  <thead>\n",
              "    <tr style=\"text-align: right;\">\n",
              "      <th></th>\n",
              "      <th>Administrative</th>\n",
              "      <th>Administrative_Duration</th>\n",
              "      <th>Informational</th>\n",
              "      <th>Informational_Duration</th>\n",
              "      <th>ProductRelated</th>\n",
              "      <th>ProductRelated_Duration</th>\n",
              "      <th>BounceRates</th>\n",
              "      <th>ExitRates</th>\n",
              "      <th>PageValues</th>\n",
              "      <th>SpecialDay</th>\n",
              "      <th>Month</th>\n",
              "      <th>OperatingSystems</th>\n",
              "      <th>Browser</th>\n",
              "      <th>Region</th>\n",
              "      <th>TrafficType</th>\n",
              "      <th>VisitorType</th>\n",
              "      <th>Weekend</th>\n",
              "      <th>revenue</th>\n",
              "    </tr>\n",
              "    <tr>\n",
              "      <th>id</th>\n",
              "      <th></th>\n",
              "      <th></th>\n",
              "      <th></th>\n",
              "      <th></th>\n",
              "      <th></th>\n",
              "      <th></th>\n",
              "      <th></th>\n",
              "      <th></th>\n",
              "      <th></th>\n",
              "      <th></th>\n",
              "      <th></th>\n",
              "      <th></th>\n",
              "      <th></th>\n",
              "      <th></th>\n",
              "      <th></th>\n",
              "      <th></th>\n",
              "      <th></th>\n",
              "      <th></th>\n",
              "    </tr>\n",
              "  </thead>\n",
              "  <tbody>\n",
              "    <tr>\n",
              "      <th>1</th>\n",
              "      <td>0</td>\n",
              "      <td>0.0</td>\n",
              "      <td>0</td>\n",
              "      <td>0.0</td>\n",
              "      <td>5</td>\n",
              "      <td>81.083333</td>\n",
              "      <td>0.04</td>\n",
              "      <td>0.050000</td>\n",
              "      <td>0.0</td>\n",
              "      <td>0.0</td>\n",
              "      <td>Dec</td>\n",
              "      <td>3</td>\n",
              "      <td>2</td>\n",
              "      <td>1</td>\n",
              "      <td>2</td>\n",
              "      <td>New_Visitor</td>\n",
              "      <td>False</td>\n",
              "      <td>0</td>\n",
              "    </tr>\n",
              "    <tr>\n",
              "      <th>2</th>\n",
              "      <td>0</td>\n",
              "      <td>0.0</td>\n",
              "      <td>0</td>\n",
              "      <td>0.0</td>\n",
              "      <td>3</td>\n",
              "      <td>189.000000</td>\n",
              "      <td>0.00</td>\n",
              "      <td>0.066667</td>\n",
              "      <td>0.0</td>\n",
              "      <td>0.0</td>\n",
              "      <td>Mar</td>\n",
              "      <td>3</td>\n",
              "      <td>2</td>\n",
              "      <td>8</td>\n",
              "      <td>1</td>\n",
              "      <td>Returning_Visitor</td>\n",
              "      <td>False</td>\n",
              "      <td>0</td>\n",
              "    </tr>\n",
              "    <tr>\n",
              "      <th>3</th>\n",
              "      <td>0</td>\n",
              "      <td>0.0</td>\n",
              "      <td>1</td>\n",
              "      <td>132.0</td>\n",
              "      <td>8</td>\n",
              "      <td>445.000000</td>\n",
              "      <td>0.00</td>\n",
              "      <td>0.014286</td>\n",
              "      <td>0.0</td>\n",
              "      <td>0.0</td>\n",
              "      <td>Mar</td>\n",
              "      <td>3</td>\n",
              "      <td>2</td>\n",
              "      <td>4</td>\n",
              "      <td>14</td>\n",
              "      <td>Returning_Visitor</td>\n",
              "      <td>True</td>\n",
              "      <td>0</td>\n",
              "    </tr>\n",
              "    <tr>\n",
              "      <th>4</th>\n",
              "      <td>0</td>\n",
              "      <td>0.0</td>\n",
              "      <td>0</td>\n",
              "      <td>0.0</td>\n",
              "      <td>3</td>\n",
              "      <td>0.000000</td>\n",
              "      <td>0.20</td>\n",
              "      <td>0.200000</td>\n",
              "      <td>0.0</td>\n",
              "      <td>0.0</td>\n",
              "      <td>Mar</td>\n",
              "      <td>1</td>\n",
              "      <td>8</td>\n",
              "      <td>2</td>\n",
              "      <td>1</td>\n",
              "      <td>Returning_Visitor</td>\n",
              "      <td>False</td>\n",
              "      <td>0</td>\n",
              "    </tr>\n",
              "    <tr>\n",
              "      <th>5</th>\n",
              "      <td>0</td>\n",
              "      <td>0.0</td>\n",
              "      <td>0</td>\n",
              "      <td>0.0</td>\n",
              "      <td>4</td>\n",
              "      <td>14.000000</td>\n",
              "      <td>0.10</td>\n",
              "      <td>0.150000</td>\n",
              "      <td>0.0</td>\n",
              "      <td>0.0</td>\n",
              "      <td>Mar</td>\n",
              "      <td>3</td>\n",
              "      <td>2</td>\n",
              "      <td>1</td>\n",
              "      <td>1</td>\n",
              "      <td>Returning_Visitor</td>\n",
              "      <td>False</td>\n",
              "      <td>0</td>\n",
              "    </tr>\n",
              "  </tbody>\n",
              "</table>\n",
              "</div>"
            ],
            "text/plain": [
              "    Administrative  Administrative_Duration  ...  Weekend  revenue\n",
              "id                                           ...                  \n",
              "1                0                      0.0  ...    False        0\n",
              "2                0                      0.0  ...    False        0\n",
              "3                0                      0.0  ...     True        0\n",
              "4                0                      0.0  ...    False        0\n",
              "5                0                      0.0  ...    False        0\n",
              "\n",
              "[5 rows x 18 columns]"
            ]
          },
          "metadata": {
            "tags": []
          },
          "execution_count": 4
        }
      ]
    },
    {
      "cell_type": "markdown",
      "metadata": {
        "id": "y1jLBAja21kO"
      },
      "source": [
        "La proporción de registros que terminaron en una compra en la página web fue de solamente el 15%, esto nos habla de una base de datos desbalanceada y sesgada hacía la clase '0', es decir, por la clase donde no se produjo una compra. \n",
        "\n",
        "También esta información nos indica que tomar en cuenta metricas como *accuracy* no es conveniente."
      ]
    },
    {
      "cell_type": "code",
      "metadata": {
        "colab": {
          "base_uri": "https://localhost:8080/"
        },
        "id": "J_Anquzf031B",
        "outputId": "cd2fa0f5-3f21-49aa-a24d-40b092dad8a9"
      },
      "source": [
        "print('tamaño: ', len(df['Administrative']))\n",
        "df['revenue'].value_counts()"
      ],
      "execution_count": 5,
      "outputs": [
        {
          "output_type": "stream",
          "text": [
            "tamaño:  8631\n"
          ],
          "name": "stdout"
        },
        {
          "output_type": "execute_result",
          "data": {
            "text/plain": [
              "0    7298\n",
              "1    1333\n",
              "Name: revenue, dtype: int64"
            ]
          },
          "metadata": {
            "tags": []
          },
          "execution_count": 5
        }
      ]
    },
    {
      "cell_type": "code",
      "metadata": {
        "colab": {
          "base_uri": "https://localhost:8080/"
        },
        "id": "Gbw3WlWgT1mr",
        "outputId": "a98c2165-0df7-4ad5-cc55-2cc1f4fe3012"
      },
      "source": [
        "df['revenue'].value_counts()/len(df['revenue'])"
      ],
      "execution_count": 6,
      "outputs": [
        {
          "output_type": "execute_result",
          "data": {
            "text/plain": [
              "0    0.845557\n",
              "1    0.154443\n",
              "Name: revenue, dtype: float64"
            ]
          },
          "metadata": {
            "tags": []
          },
          "execution_count": 6
        }
      ]
    },
    {
      "cell_type": "markdown",
      "metadata": {
        "id": "Zjv5mbDg3w0K"
      },
      "source": [
        "Se nota la presencia de algunos datos atípicos en las columnas *Administrative, Administrative_duration, Informational, Informational_duration*, pero de momento se trabajará con el dataset original."
      ]
    },
    {
      "cell_type": "code",
      "metadata": {
        "colab": {
          "base_uri": "https://localhost:8080/",
          "height": 314
        },
        "id": "KVzYgyK1JuuX",
        "outputId": "b836d797-7888-4079-b75d-448b02597770"
      },
      "source": [
        "df.describe()"
      ],
      "execution_count": 7,
      "outputs": [
        {
          "output_type": "execute_result",
          "data": {
            "text/html": [
              "<div>\n",
              "<style scoped>\n",
              "    .dataframe tbody tr th:only-of-type {\n",
              "        vertical-align: middle;\n",
              "    }\n",
              "\n",
              "    .dataframe tbody tr th {\n",
              "        vertical-align: top;\n",
              "    }\n",
              "\n",
              "    .dataframe thead th {\n",
              "        text-align: right;\n",
              "    }\n",
              "</style>\n",
              "<table border=\"1\" class=\"dataframe\">\n",
              "  <thead>\n",
              "    <tr style=\"text-align: right;\">\n",
              "      <th></th>\n",
              "      <th>Administrative</th>\n",
              "      <th>Administrative_Duration</th>\n",
              "      <th>Informational</th>\n",
              "      <th>Informational_Duration</th>\n",
              "      <th>ProductRelated</th>\n",
              "      <th>ProductRelated_Duration</th>\n",
              "      <th>BounceRates</th>\n",
              "      <th>ExitRates</th>\n",
              "      <th>PageValues</th>\n",
              "      <th>SpecialDay</th>\n",
              "      <th>OperatingSystems</th>\n",
              "      <th>Browser</th>\n",
              "      <th>Region</th>\n",
              "      <th>TrafficType</th>\n",
              "      <th>revenue</th>\n",
              "    </tr>\n",
              "  </thead>\n",
              "  <tbody>\n",
              "    <tr>\n",
              "      <th>count</th>\n",
              "      <td>8631.000000</td>\n",
              "      <td>8631.000000</td>\n",
              "      <td>8631.000000</td>\n",
              "      <td>8631.000000</td>\n",
              "      <td>8631.000000</td>\n",
              "      <td>8631.000000</td>\n",
              "      <td>8631.000000</td>\n",
              "      <td>8631.000000</td>\n",
              "      <td>8631.000000</td>\n",
              "      <td>8631.000000</td>\n",
              "      <td>8631.000000</td>\n",
              "      <td>8631.000000</td>\n",
              "      <td>8631.000000</td>\n",
              "      <td>8631.000000</td>\n",
              "      <td>8631.000000</td>\n",
              "    </tr>\n",
              "    <tr>\n",
              "      <th>mean</th>\n",
              "      <td>2.302398</td>\n",
              "      <td>80.509877</td>\n",
              "      <td>0.508748</td>\n",
              "      <td>34.314914</td>\n",
              "      <td>31.697718</td>\n",
              "      <td>1195.706056</td>\n",
              "      <td>0.021485</td>\n",
              "      <td>0.042400</td>\n",
              "      <td>5.931044</td>\n",
              "      <td>0.059761</td>\n",
              "      <td>2.116672</td>\n",
              "      <td>2.357201</td>\n",
              "      <td>3.149345</td>\n",
              "      <td>4.073224</td>\n",
              "      <td>0.154443</td>\n",
              "    </tr>\n",
              "    <tr>\n",
              "      <th>std</th>\n",
              "      <td>3.291140</td>\n",
              "      <td>173.090680</td>\n",
              "      <td>1.280891</td>\n",
              "      <td>135.652626</td>\n",
              "      <td>44.379155</td>\n",
              "      <td>1828.486623</td>\n",
              "      <td>0.047272</td>\n",
              "      <td>0.047634</td>\n",
              "      <td>18.839500</td>\n",
              "      <td>0.196143</td>\n",
              "      <td>0.902649</td>\n",
              "      <td>1.717329</td>\n",
              "      <td>2.408908</td>\n",
              "      <td>4.023450</td>\n",
              "      <td>0.361394</td>\n",
              "    </tr>\n",
              "    <tr>\n",
              "      <th>min</th>\n",
              "      <td>0.000000</td>\n",
              "      <td>0.000000</td>\n",
              "      <td>0.000000</td>\n",
              "      <td>0.000000</td>\n",
              "      <td>0.000000</td>\n",
              "      <td>0.000000</td>\n",
              "      <td>0.000000</td>\n",
              "      <td>0.000000</td>\n",
              "      <td>0.000000</td>\n",
              "      <td>0.000000</td>\n",
              "      <td>1.000000</td>\n",
              "      <td>1.000000</td>\n",
              "      <td>1.000000</td>\n",
              "      <td>1.000000</td>\n",
              "      <td>0.000000</td>\n",
              "    </tr>\n",
              "    <tr>\n",
              "      <th>25%</th>\n",
              "      <td>0.000000</td>\n",
              "      <td>0.000000</td>\n",
              "      <td>0.000000</td>\n",
              "      <td>0.000000</td>\n",
              "      <td>7.000000</td>\n",
              "      <td>186.475000</td>\n",
              "      <td>0.000000</td>\n",
              "      <td>0.014286</td>\n",
              "      <td>0.000000</td>\n",
              "      <td>0.000000</td>\n",
              "      <td>2.000000</td>\n",
              "      <td>2.000000</td>\n",
              "      <td>1.000000</td>\n",
              "      <td>2.000000</td>\n",
              "      <td>0.000000</td>\n",
              "    </tr>\n",
              "    <tr>\n",
              "      <th>50%</th>\n",
              "      <td>1.000000</td>\n",
              "      <td>7.625000</td>\n",
              "      <td>0.000000</td>\n",
              "      <td>0.000000</td>\n",
              "      <td>18.000000</td>\n",
              "      <td>602.883333</td>\n",
              "      <td>0.003030</td>\n",
              "      <td>0.025000</td>\n",
              "      <td>0.000000</td>\n",
              "      <td>0.000000</td>\n",
              "      <td>2.000000</td>\n",
              "      <td>2.000000</td>\n",
              "      <td>3.000000</td>\n",
              "      <td>2.000000</td>\n",
              "      <td>0.000000</td>\n",
              "    </tr>\n",
              "    <tr>\n",
              "      <th>75%</th>\n",
              "      <td>4.000000</td>\n",
              "      <td>91.950000</td>\n",
              "      <td>0.000000</td>\n",
              "      <td>0.000000</td>\n",
              "      <td>37.000000</td>\n",
              "      <td>1477.564759</td>\n",
              "      <td>0.016667</td>\n",
              "      <td>0.050000</td>\n",
              "      <td>0.000000</td>\n",
              "      <td>0.000000</td>\n",
              "      <td>3.000000</td>\n",
              "      <td>2.000000</td>\n",
              "      <td>4.000000</td>\n",
              "      <td>4.000000</td>\n",
              "      <td>0.000000</td>\n",
              "    </tr>\n",
              "    <tr>\n",
              "      <th>max</th>\n",
              "      <td>27.000000</td>\n",
              "      <td>2720.500000</td>\n",
              "      <td>24.000000</td>\n",
              "      <td>2195.300000</td>\n",
              "      <td>705.000000</td>\n",
              "      <td>43171.233380</td>\n",
              "      <td>0.200000</td>\n",
              "      <td>0.200000</td>\n",
              "      <td>361.763742</td>\n",
              "      <td>1.000000</td>\n",
              "      <td>8.000000</td>\n",
              "      <td>13.000000</td>\n",
              "      <td>9.000000</td>\n",
              "      <td>20.000000</td>\n",
              "      <td>1.000000</td>\n",
              "    </tr>\n",
              "  </tbody>\n",
              "</table>\n",
              "</div>"
            ],
            "text/plain": [
              "       Administrative  Administrative_Duration  ...  TrafficType      revenue\n",
              "count     8631.000000              8631.000000  ...  8631.000000  8631.000000\n",
              "mean         2.302398                80.509877  ...     4.073224     0.154443\n",
              "std          3.291140               173.090680  ...     4.023450     0.361394\n",
              "min          0.000000                 0.000000  ...     1.000000     0.000000\n",
              "25%          0.000000                 0.000000  ...     2.000000     0.000000\n",
              "50%          1.000000                 7.625000  ...     2.000000     0.000000\n",
              "75%          4.000000                91.950000  ...     4.000000     0.000000\n",
              "max         27.000000              2720.500000  ...    20.000000     1.000000\n",
              "\n",
              "[8 rows x 15 columns]"
            ]
          },
          "metadata": {
            "tags": []
          },
          "execution_count": 7
        }
      ]
    },
    {
      "cell_type": "code",
      "metadata": {
        "id": "e4wl5jnXl31Z"
      },
      "source": [
        "X = df[['Administrative', 'Administrative_Duration', 'Informational',\n",
        "       'Informational_Duration', 'ProductRelated', 'ProductRelated_Duration',\n",
        "       'BounceRates', 'ExitRates', 'PageValues', 'SpecialDay',\n",
        "       'OperatingSystems', 'Browser', 'Region', 'TrafficType', 'VisitorType',\n",
        "       'Weekend']]\n",
        "\n",
        "y = df['revenue']"
      ],
      "execution_count": 8,
      "outputs": []
    },
    {
      "cell_type": "code",
      "metadata": {
        "colab": {
          "base_uri": "https://localhost:8080/",
          "height": 466
        },
        "id": "27tSMXB7l2-k",
        "outputId": "124c2900-ac5a-4e81-bb90-00ed1d8aba75"
      },
      "source": [
        "X = pd.get_dummies(X)  #### VisitorType se dividio (get_dummies)\n",
        "X"
      ],
      "execution_count": 9,
      "outputs": [
        {
          "output_type": "execute_result",
          "data": {
            "text/html": [
              "<div>\n",
              "<style scoped>\n",
              "    .dataframe tbody tr th:only-of-type {\n",
              "        vertical-align: middle;\n",
              "    }\n",
              "\n",
              "    .dataframe tbody tr th {\n",
              "        vertical-align: top;\n",
              "    }\n",
              "\n",
              "    .dataframe thead th {\n",
              "        text-align: right;\n",
              "    }\n",
              "</style>\n",
              "<table border=\"1\" class=\"dataframe\">\n",
              "  <thead>\n",
              "    <tr style=\"text-align: right;\">\n",
              "      <th></th>\n",
              "      <th>Administrative</th>\n",
              "      <th>Administrative_Duration</th>\n",
              "      <th>Informational</th>\n",
              "      <th>Informational_Duration</th>\n",
              "      <th>ProductRelated</th>\n",
              "      <th>ProductRelated_Duration</th>\n",
              "      <th>BounceRates</th>\n",
              "      <th>ExitRates</th>\n",
              "      <th>PageValues</th>\n",
              "      <th>SpecialDay</th>\n",
              "      <th>OperatingSystems</th>\n",
              "      <th>Browser</th>\n",
              "      <th>Region</th>\n",
              "      <th>TrafficType</th>\n",
              "      <th>Weekend</th>\n",
              "      <th>VisitorType_New_Visitor</th>\n",
              "      <th>VisitorType_Other</th>\n",
              "      <th>VisitorType_Returning_Visitor</th>\n",
              "    </tr>\n",
              "    <tr>\n",
              "      <th>id</th>\n",
              "      <th></th>\n",
              "      <th></th>\n",
              "      <th></th>\n",
              "      <th></th>\n",
              "      <th></th>\n",
              "      <th></th>\n",
              "      <th></th>\n",
              "      <th></th>\n",
              "      <th></th>\n",
              "      <th></th>\n",
              "      <th></th>\n",
              "      <th></th>\n",
              "      <th></th>\n",
              "      <th></th>\n",
              "      <th></th>\n",
              "      <th></th>\n",
              "      <th></th>\n",
              "      <th></th>\n",
              "    </tr>\n",
              "  </thead>\n",
              "  <tbody>\n",
              "    <tr>\n",
              "      <th>1</th>\n",
              "      <td>0</td>\n",
              "      <td>0.000000</td>\n",
              "      <td>0</td>\n",
              "      <td>0.0</td>\n",
              "      <td>5</td>\n",
              "      <td>81.083333</td>\n",
              "      <td>0.04</td>\n",
              "      <td>0.050000</td>\n",
              "      <td>0.000</td>\n",
              "      <td>0.0</td>\n",
              "      <td>3</td>\n",
              "      <td>2</td>\n",
              "      <td>1</td>\n",
              "      <td>2</td>\n",
              "      <td>False</td>\n",
              "      <td>1</td>\n",
              "      <td>0</td>\n",
              "      <td>0</td>\n",
              "    </tr>\n",
              "    <tr>\n",
              "      <th>2</th>\n",
              "      <td>0</td>\n",
              "      <td>0.000000</td>\n",
              "      <td>0</td>\n",
              "      <td>0.0</td>\n",
              "      <td>3</td>\n",
              "      <td>189.000000</td>\n",
              "      <td>0.00</td>\n",
              "      <td>0.066667</td>\n",
              "      <td>0.000</td>\n",
              "      <td>0.0</td>\n",
              "      <td>3</td>\n",
              "      <td>2</td>\n",
              "      <td>8</td>\n",
              "      <td>1</td>\n",
              "      <td>False</td>\n",
              "      <td>0</td>\n",
              "      <td>0</td>\n",
              "      <td>1</td>\n",
              "    </tr>\n",
              "    <tr>\n",
              "      <th>3</th>\n",
              "      <td>0</td>\n",
              "      <td>0.000000</td>\n",
              "      <td>1</td>\n",
              "      <td>132.0</td>\n",
              "      <td>8</td>\n",
              "      <td>445.000000</td>\n",
              "      <td>0.00</td>\n",
              "      <td>0.014286</td>\n",
              "      <td>0.000</td>\n",
              "      <td>0.0</td>\n",
              "      <td>3</td>\n",
              "      <td>2</td>\n",
              "      <td>4</td>\n",
              "      <td>14</td>\n",
              "      <td>True</td>\n",
              "      <td>0</td>\n",
              "      <td>0</td>\n",
              "      <td>1</td>\n",
              "    </tr>\n",
              "    <tr>\n",
              "      <th>4</th>\n",
              "      <td>0</td>\n",
              "      <td>0.000000</td>\n",
              "      <td>0</td>\n",
              "      <td>0.0</td>\n",
              "      <td>3</td>\n",
              "      <td>0.000000</td>\n",
              "      <td>0.20</td>\n",
              "      <td>0.200000</td>\n",
              "      <td>0.000</td>\n",
              "      <td>0.0</td>\n",
              "      <td>1</td>\n",
              "      <td>8</td>\n",
              "      <td>2</td>\n",
              "      <td>1</td>\n",
              "      <td>False</td>\n",
              "      <td>0</td>\n",
              "      <td>0</td>\n",
              "      <td>1</td>\n",
              "    </tr>\n",
              "    <tr>\n",
              "      <th>5</th>\n",
              "      <td>0</td>\n",
              "      <td>0.000000</td>\n",
              "      <td>0</td>\n",
              "      <td>0.0</td>\n",
              "      <td>4</td>\n",
              "      <td>14.000000</td>\n",
              "      <td>0.10</td>\n",
              "      <td>0.150000</td>\n",
              "      <td>0.000</td>\n",
              "      <td>0.0</td>\n",
              "      <td>3</td>\n",
              "      <td>2</td>\n",
              "      <td>1</td>\n",
              "      <td>1</td>\n",
              "      <td>False</td>\n",
              "      <td>0</td>\n",
              "      <td>0</td>\n",
              "      <td>1</td>\n",
              "    </tr>\n",
              "    <tr>\n",
              "      <th>...</th>\n",
              "      <td>...</td>\n",
              "      <td>...</td>\n",
              "      <td>...</td>\n",
              "      <td>...</td>\n",
              "      <td>...</td>\n",
              "      <td>...</td>\n",
              "      <td>...</td>\n",
              "      <td>...</td>\n",
              "      <td>...</td>\n",
              "      <td>...</td>\n",
              "      <td>...</td>\n",
              "      <td>...</td>\n",
              "      <td>...</td>\n",
              "      <td>...</td>\n",
              "      <td>...</td>\n",
              "      <td>...</td>\n",
              "      <td>...</td>\n",
              "      <td>...</td>\n",
              "    </tr>\n",
              "    <tr>\n",
              "      <th>8627</th>\n",
              "      <td>14</td>\n",
              "      <td>1005.608333</td>\n",
              "      <td>0</td>\n",
              "      <td>0.0</td>\n",
              "      <td>25</td>\n",
              "      <td>732.344872</td>\n",
              "      <td>0.00</td>\n",
              "      <td>0.015676</td>\n",
              "      <td>0.000</td>\n",
              "      <td>0.0</td>\n",
              "      <td>3</td>\n",
              "      <td>2</td>\n",
              "      <td>1</td>\n",
              "      <td>2</td>\n",
              "      <td>False</td>\n",
              "      <td>0</td>\n",
              "      <td>0</td>\n",
              "      <td>1</td>\n",
              "    </tr>\n",
              "    <tr>\n",
              "      <th>8628</th>\n",
              "      <td>0</td>\n",
              "      <td>0.000000</td>\n",
              "      <td>0</td>\n",
              "      <td>0.0</td>\n",
              "      <td>14</td>\n",
              "      <td>340.000000</td>\n",
              "      <td>0.00</td>\n",
              "      <td>0.015385</td>\n",
              "      <td>23.388</td>\n",
              "      <td>0.0</td>\n",
              "      <td>2</td>\n",
              "      <td>2</td>\n",
              "      <td>3</td>\n",
              "      <td>1</td>\n",
              "      <td>True</td>\n",
              "      <td>0</td>\n",
              "      <td>0</td>\n",
              "      <td>1</td>\n",
              "    </tr>\n",
              "    <tr>\n",
              "      <th>8629</th>\n",
              "      <td>0</td>\n",
              "      <td>0.000000</td>\n",
              "      <td>0</td>\n",
              "      <td>0.0</td>\n",
              "      <td>3</td>\n",
              "      <td>189.000000</td>\n",
              "      <td>0.00</td>\n",
              "      <td>0.066667</td>\n",
              "      <td>0.000</td>\n",
              "      <td>0.0</td>\n",
              "      <td>2</td>\n",
              "      <td>2</td>\n",
              "      <td>3</td>\n",
              "      <td>4</td>\n",
              "      <td>False</td>\n",
              "      <td>0</td>\n",
              "      <td>0</td>\n",
              "      <td>1</td>\n",
              "    </tr>\n",
              "    <tr>\n",
              "      <th>8630</th>\n",
              "      <td>0</td>\n",
              "      <td>0.000000</td>\n",
              "      <td>0</td>\n",
              "      <td>0.0</td>\n",
              "      <td>13</td>\n",
              "      <td>305.000000</td>\n",
              "      <td>0.00</td>\n",
              "      <td>0.016667</td>\n",
              "      <td>0.000</td>\n",
              "      <td>0.0</td>\n",
              "      <td>1</td>\n",
              "      <td>1</td>\n",
              "      <td>1</td>\n",
              "      <td>2</td>\n",
              "      <td>False</td>\n",
              "      <td>1</td>\n",
              "      <td>0</td>\n",
              "      <td>0</td>\n",
              "    </tr>\n",
              "    <tr>\n",
              "      <th>8631</th>\n",
              "      <td>7</td>\n",
              "      <td>138.150000</td>\n",
              "      <td>0</td>\n",
              "      <td>0.0</td>\n",
              "      <td>9</td>\n",
              "      <td>232.310000</td>\n",
              "      <td>0.00</td>\n",
              "      <td>0.028718</td>\n",
              "      <td>0.000</td>\n",
              "      <td>0.0</td>\n",
              "      <td>2</td>\n",
              "      <td>2</td>\n",
              "      <td>5</td>\n",
              "      <td>2</td>\n",
              "      <td>True</td>\n",
              "      <td>0</td>\n",
              "      <td>0</td>\n",
              "      <td>1</td>\n",
              "    </tr>\n",
              "  </tbody>\n",
              "</table>\n",
              "<p>8631 rows × 18 columns</p>\n",
              "</div>"
            ],
            "text/plain": [
              "      Administrative  ...  VisitorType_Returning_Visitor\n",
              "id                    ...                               \n",
              "1                  0  ...                              0\n",
              "2                  0  ...                              1\n",
              "3                  0  ...                              1\n",
              "4                  0  ...                              1\n",
              "5                  0  ...                              1\n",
              "...              ...  ...                            ...\n",
              "8627              14  ...                              1\n",
              "8628               0  ...                              1\n",
              "8629               0  ...                              1\n",
              "8630               0  ...                              0\n",
              "8631               7  ...                              1\n",
              "\n",
              "[8631 rows x 18 columns]"
            ]
          },
          "metadata": {
            "tags": []
          },
          "execution_count": 9
        }
      ]
    },
    {
      "cell_type": "markdown",
      "metadata": {
        "id": "12Ag8mItkOxw"
      },
      "source": [
        "Tenemos un dataser desbalanceado: \n",
        "\n",
        "- 85% son cero, es decir, el cliente **NO** compro en la página.\n",
        "- 15% son unos, el cliente realizó una compra."
      ]
    },
    {
      "cell_type": "code",
      "metadata": {
        "id": "nAMKA5P9Wqhp"
      },
      "source": [
        "X_train, X_test, y_train, y_test = train_test_split(X, y, test_size = 0.25, random_state = 1)"
      ],
      "execution_count": 10,
      "outputs": []
    },
    {
      "cell_type": "code",
      "metadata": {
        "colab": {
          "base_uri": "https://localhost:8080/"
        },
        "id": "9GS_28EIXN5V",
        "outputId": "d710e9fa-2393-44b4-f6e8-3748a16af350"
      },
      "source": [
        "y_train.value_counts()"
      ],
      "execution_count": 11,
      "outputs": [
        {
          "output_type": "execute_result",
          "data": {
            "text/plain": [
              "0    5496\n",
              "1     977\n",
              "Name: revenue, dtype: int64"
            ]
          },
          "metadata": {
            "tags": []
          },
          "execution_count": 11
        }
      ]
    },
    {
      "cell_type": "markdown",
      "metadata": {
        "id": "Wq30ga_rBymi"
      },
      "source": [
        "Para resolver el problema del desbalanceo vamos a utilizar técnicas de muestreo para tratar de obtener la misma proporción de registros en ambas clases."
      ]
    },
    {
      "cell_type": "markdown",
      "metadata": {
        "id": "jjEpibC4lgkp"
      },
      "source": [
        "## *Sobremuentreo de la clase 1.*"
      ]
    },
    {
      "cell_type": "markdown",
      "metadata": {
        "id": "2Afy1OgXCHD-"
      },
      "source": [
        "Primero, existen muchas técnicas para realizar lo anterior, y se pueden explicar de manera resumida: \n",
        "\n",
        "### *Métodos de sobremuestreo.*\n",
        "\n",
        "- **Método ROS**: Este método replica muestras de la clase menos representadas hasta obtener la misma porporción con la clase con mayor presentación.\n",
        "\n",
        "- **Método SMOTE**: Este método, adiferencia del anterior, crea muestras sintéticas de las clases menos representadas. Estos nuevos registros provienen de calcular la media entre dos registros en la misma clase. Hay que notar que notas las caractéristicas deben ser númericas para poder realizar el calculo de las medias.\n",
        "\n",
        "### *Métodos de submuestreo.*\n",
        "\n",
        "- **Método RUS**: El método elimina registros de manera aleatoria de la clase más representada hasta que las proporciones entre las clases sea la misma.\n",
        "\n",
        "- **Método NearMiss**: Este también elimina muestras de la clase más representada hasta obtener la misma proporción con la clase menos representada, la diferencia con el método anterior es que la eliminación no es aleatoria, sino que se eliminan las muestras que se encuentran más 'cerca' a la clase menos represnetada. "
      ]
    },
    {
      "cell_type": "markdown",
      "metadata": {
        "id": "sA912yJ7l96B"
      },
      "source": [
        "#### **Método ROS**, duplicar muestras de la clase menos representadas"
      ]
    },
    {
      "cell_type": "code",
      "metadata": {
        "id": "svcNbnzelY_l",
        "colab": {
          "base_uri": "https://localhost:8080/"
        },
        "outputId": "ca3ec6ec-f003-4476-b34c-6282695565c7"
      },
      "source": [
        "#Importamos los paquetes\n",
        "from imblearn.over_sampling import RandomOverSampler, SMOTE\n",
        "\n",
        "#Inicialización de los métodos de sobremuestreo\n",
        "#ROS\n",
        "ros = RandomOverSampler()#random_state = 0\n",
        "#SMOTE\n",
        "smote = SMOTE(random_state = 1)"
      ],
      "execution_count": 12,
      "outputs": [
        {
          "output_type": "stream",
          "text": [
            "/usr/local/lib/python3.7/dist-packages/sklearn/externals/six.py:31: FutureWarning: The module is deprecated in version 0.21 and will be removed in version 0.23 since we've dropped support for Python 2.7. Please rely on the official version of six (https://pypi.org/project/six/).\n",
            "  \"(https://pypi.org/project/six/).\", FutureWarning)\n",
            "/usr/local/lib/python3.7/dist-packages/sklearn/utils/deprecation.py:144: FutureWarning: The sklearn.neighbors.base module is  deprecated in version 0.22 and will be removed in version 0.24. The corresponding classes / functions should instead be imported from sklearn.neighbors. Anything that cannot be imported from sklearn.neighbors is now part of the private API.\n",
            "  warnings.warn(message, FutureWarning)\n"
          ],
          "name": "stderr"
        }
      ]
    },
    {
      "cell_type": "code",
      "metadata": {
        "colab": {
          "base_uri": "https://localhost:8080/"
        },
        "id": "N0qUcLe4kL9S",
        "outputId": "06ee8f36-dc52-455e-ef85-107817da449e"
      },
      "source": [
        "#ROS. Duplica muestras de la clase menos representadas\n",
        "dataRos, targetRos = ros.fit_resample(X_train ,y_train)\n",
        "Unos = targetRos.sum()\n",
        "Ceros = targetRos.shape[0]- Unos\n",
        "print('Compras: ', Unos, ' , No compras: ', Ceros)\n",
        "dataRos.shape"
      ],
      "execution_count": 13,
      "outputs": [
        {
          "output_type": "stream",
          "text": [
            "Compras:  5496  , No compras:  5496\n"
          ],
          "name": "stdout"
        },
        {
          "output_type": "stream",
          "text": [
            "/usr/local/lib/python3.7/dist-packages/sklearn/utils/deprecation.py:87: FutureWarning: Function safe_indexing is deprecated; safe_indexing is deprecated in version 0.22 and will be removed in version 0.24.\n",
            "  warnings.warn(msg, category=FutureWarning)\n"
          ],
          "name": "stderr"
        },
        {
          "output_type": "execute_result",
          "data": {
            "text/plain": [
              "(10992, 18)"
            ]
          },
          "metadata": {
            "tags": []
          },
          "execution_count": 13
        }
      ]
    },
    {
      "cell_type": "code",
      "metadata": {
        "colab": {
          "base_uri": "https://localhost:8080/"
        },
        "id": "4PqwnZExmynV",
        "outputId": "2b0c542d-baac-4248-8fb8-e5f8f449981e"
      },
      "source": [
        "dataRos"
      ],
      "execution_count": 14,
      "outputs": [
        {
          "output_type": "execute_result",
          "data": {
            "text/plain": [
              "array([[0, 0.0, 0, ..., 0, 0, 1],\n",
              "       [0, 0.0, 1, ..., 0, 0, 1],\n",
              "       [0, 0.0, 0, ..., 0, 0, 1],\n",
              "       ...,\n",
              "       [3, 137.0, 4, ..., 1, 0, 0],\n",
              "       [5, 39.0, 0, ..., 1, 0, 0],\n",
              "       [6, 65.41666667, 0, ..., 0, 0, 1]], dtype=object)"
            ]
          },
          "metadata": {
            "tags": []
          },
          "execution_count": 14
        }
      ]
    },
    {
      "cell_type": "markdown",
      "metadata": {
        "id": "svZBO48rnMK4"
      },
      "source": [
        "#### **Método SMOTE**, genera muestras sinteticas de la clase con menos representación, a partir de las mismas muestras."
      ]
    },
    {
      "cell_type": "code",
      "metadata": {
        "colab": {
          "base_uri": "https://localhost:8080/"
        },
        "id": "Ddz8EqAckL0x",
        "outputId": "cb583fc9-3fc5-4af1-b65b-fb9df5ca794e"
      },
      "source": [
        "#SMOTE. Genera nuevas muestras sintéticas\n",
        "dataSmote, targetSmote = smote.fit_resample(X_train ,y_train)\n",
        "Compras = targetSmote.sum()\n",
        "No_compras = targetSmote.shape[0]- Compras\n",
        "print('Compras: ', Compras, ' , No_compras: ', No_compras)\n",
        "dataSmote"
      ],
      "execution_count": 15,
      "outputs": [
        {
          "output_type": "stream",
          "text": [
            "Compras:  5496  , No_compras:  5496\n"
          ],
          "name": "stdout"
        },
        {
          "output_type": "stream",
          "text": [
            "/usr/local/lib/python3.7/dist-packages/sklearn/utils/deprecation.py:87: FutureWarning: Function safe_indexing is deprecated; safe_indexing is deprecated in version 0.22 and will be removed in version 0.24.\n",
            "  warnings.warn(msg, category=FutureWarning)\n"
          ],
          "name": "stderr"
        },
        {
          "output_type": "execute_result",
          "data": {
            "text/plain": [
              "array([[  0.        ,   0.        ,   0.        , ...,   0.        ,\n",
              "          0.        ,   1.        ],\n",
              "       [  0.        ,   0.        ,   1.        , ...,   0.        ,\n",
              "          0.        ,   1.        ],\n",
              "       [  0.        ,   0.        ,   0.        , ...,   0.        ,\n",
              "          0.        ,   1.        ],\n",
              "       ...,\n",
              "       [  3.11532144, 254.30281462,   0.72116964, ...,   0.        ,\n",
              "          0.        ,   1.        ],\n",
              "       [  0.        ,   0.        ,   0.        , ...,   0.        ,\n",
              "          0.        ,   1.        ],\n",
              "       [  3.        ,  27.17684944,   0.        , ...,   0.29834639,\n",
              "          0.        ,   0.70165361]])"
            ]
          },
          "metadata": {
            "tags": []
          },
          "execution_count": 15
        }
      ]
    },
    {
      "cell_type": "markdown",
      "metadata": {
        "id": "pRFSNQm7qCVb"
      },
      "source": [
        "### SUbmuestreo de la clase con más representación"
      ]
    },
    {
      "cell_type": "markdown",
      "metadata": {
        "id": "D5OJcPL6qM1z"
      },
      "source": [
        "### **Método RUS**, eliminación de muestras de la clase con más representatividad de manera aleatoria"
      ]
    },
    {
      "cell_type": "code",
      "metadata": {
        "id": "9y5Z3wUNkLje"
      },
      "source": [
        "#Importamos los paquetes\n",
        "from imblearn.under_sampling import RandomUnderSampler, NearMiss\n",
        "\n",
        "#Inicialización de los métodos de submuestreo\n",
        "#RUS\n",
        "rus = RandomUnderSampler()#random_state = 0\n",
        "#NearMiss\n",
        "nm = NearMiss()"
      ],
      "execution_count": 16,
      "outputs": []
    },
    {
      "cell_type": "code",
      "metadata": {
        "colab": {
          "base_uri": "https://localhost:8080/"
        },
        "id": "rEFvxIgsqBHM",
        "outputId": "3c9d1ddb-7e5b-4ec9-b709-a9b87f4911da"
      },
      "source": [
        "#RUS. Elimina muestras de la clase más representada aleatoriamente\n",
        "dataRus, targetRus = rus.fit_resample(X_train ,y_train)\n",
        "ComprasRus = targetRus.sum()\n",
        "NoComprasRus = targetRus.shape[0]- ComprasRus\n",
        "print('ComprasRus: ', ComprasRus, ' , NO_ComprasRus: ', NoComprasRus )\n",
        "dataRus"
      ],
      "execution_count": 17,
      "outputs": [
        {
          "output_type": "stream",
          "text": [
            "ComprasRus:  977  , NO_ComprasRus:  977\n"
          ],
          "name": "stdout"
        },
        {
          "output_type": "stream",
          "text": [
            "/usr/local/lib/python3.7/dist-packages/sklearn/utils/deprecation.py:87: FutureWarning: Function safe_indexing is deprecated; safe_indexing is deprecated in version 0.22 and will be removed in version 0.24.\n",
            "  warnings.warn(msg, category=FutureWarning)\n"
          ],
          "name": "stderr"
        },
        {
          "output_type": "execute_result",
          "data": {
            "text/plain": [
              "array([[2, 6.0, 0, ..., 0, 0, 1],\n",
              "       [1, 11.0, 0, ..., 0, 0, 1],\n",
              "       [0, 0.0, 0, ..., 0, 0, 1],\n",
              "       ...,\n",
              "       [4, 143.0, 1, ..., 0, 0, 1],\n",
              "       [5, 61.875, 0, ..., 0, 0, 1],\n",
              "       [2, 268.08, 0, ..., 0, 0, 1]], dtype=object)"
            ]
          },
          "metadata": {
            "tags": []
          },
          "execution_count": 17
        }
      ]
    },
    {
      "cell_type": "markdown",
      "metadata": {
        "id": "NLrrKqEXq7_9"
      },
      "source": [
        "### **Método NearMiss**, Elimina las muestras de la clase más representada quitando aquellas que estan más cerca de la clase menos representada"
      ]
    },
    {
      "cell_type": "code",
      "metadata": {
        "colab": {
          "base_uri": "https://localhost:8080/"
        },
        "id": "n9H2p5kXqA9n",
        "outputId": "36423673-d114-41f0-af93-11db61928a1d"
      },
      "source": [
        "#NearMiss. Elimina las muestras más cercanas de la clase más representada\n",
        "dataNm, targetNm = nm.fit_resample(X_train ,y_train)\n",
        "ComprasNm = targetNm.sum()\n",
        "NoComprasNm = targetNm.shape[0]- ComprasNm\n",
        "print('ComprasNm: ', ComprasNm, ' , NoComprasNm: ', NoComprasNm)\n",
        "dataNm"
      ],
      "execution_count": 18,
      "outputs": [
        {
          "output_type": "stream",
          "text": [
            "ComprasNm:  977  , NoComprasNm:  977\n"
          ],
          "name": "stdout"
        },
        {
          "output_type": "stream",
          "text": [
            "/usr/local/lib/python3.7/dist-packages/sklearn/utils/deprecation.py:87: FutureWarning: Function safe_indexing is deprecated; safe_indexing is deprecated in version 0.22 and will be removed in version 0.24.\n",
            "  warnings.warn(msg, category=FutureWarning)\n",
            "/usr/local/lib/python3.7/dist-packages/sklearn/utils/deprecation.py:87: FutureWarning: Function safe_indexing is deprecated; safe_indexing is deprecated in version 0.22 and will be removed in version 0.24.\n",
            "  warnings.warn(msg, category=FutureWarning)\n",
            "/usr/local/lib/python3.7/dist-packages/sklearn/utils/deprecation.py:87: FutureWarning: Function safe_indexing is deprecated; safe_indexing is deprecated in version 0.22 and will be removed in version 0.24.\n",
            "  warnings.warn(msg, category=FutureWarning)\n"
          ],
          "name": "stderr"
        },
        {
          "output_type": "execute_result",
          "data": {
            "text/plain": [
              "array([[  1.   ,  21.2  ,   0.   , ...,   0.   ,   0.   ,   1.   ],\n",
              "       [  2.   ,  23.2  ,   0.   , ...,   1.   ,   0.   ,   0.   ],\n",
              "       [  1.   ,  20.   ,   0.   , ...,   0.   ,   0.   ,   1.   ],\n",
              "       ...,\n",
              "       [  4.   , 143.   ,   1.   , ...,   0.   ,   0.   ,   1.   ],\n",
              "       [  5.   ,  61.875,   0.   , ...,   0.   ,   0.   ,   1.   ],\n",
              "       [  2.   , 268.08 ,   0.   , ...,   0.   ,   0.   ,   1.   ]])"
            ]
          },
          "metadata": {
            "tags": []
          },
          "execution_count": 18
        }
      ]
    },
    {
      "cell_type": "markdown",
      "metadata": {
        "id": "_A08n7cnsFuF"
      },
      "source": [
        "## **Submuestreo y Sobremuestreo**"
      ]
    },
    {
      "cell_type": "markdown",
      "metadata": {
        "id": "CItn1PL3sQEY"
      },
      "source": [
        "**Método SMOTETomek**, combina el método SMOTE seguido de un submuestreo con Uniones de Tomek"
      ]
    },
    {
      "cell_type": "code",
      "metadata": {
        "id": "a9U4IzCzkLb3"
      },
      "source": [
        "#Importamos los paquetes\n",
        "from imblearn.combine import SMOTETomek\n",
        "\n",
        "#Inicialización del método combinado\n",
        "#SMOTE Tomek\n",
        "smoteT = SMOTETomek()#random_state = 0"
      ],
      "execution_count": 19,
      "outputs": []
    },
    {
      "cell_type": "code",
      "metadata": {
        "colab": {
          "base_uri": "https://localhost:8080/"
        },
        "id": "wp-GbthIkLT8",
        "outputId": "ce67278c-8573-498f-80c2-87442a209f08"
      },
      "source": [
        "#Smote-Tomek. Sobremuestreo con Smote seguido de un submuestreo con Uniones de Tomek\n",
        "datasmoteT, targetsmoteT = smoteT.fit_resample(X_train ,y_train)\n",
        "ComprasosmoteT = targetsmoteT.sum()\n",
        "NoComprasosmoteT = targetsmoteT.shape[0]- ComprasosmoteT\n",
        "print('ComprasosmoteT: ', ComprasosmoteT, ' , NoComprasosmoteT: ',ComprasosmoteT )\n",
        "datasmoteT"
      ],
      "execution_count": 20,
      "outputs": [
        {
          "output_type": "stream",
          "text": [
            "/usr/local/lib/python3.7/dist-packages/sklearn/utils/deprecation.py:87: FutureWarning: Function safe_indexing is deprecated; safe_indexing is deprecated in version 0.22 and will be removed in version 0.24.\n",
            "  warnings.warn(msg, category=FutureWarning)\n"
          ],
          "name": "stderr"
        },
        {
          "output_type": "stream",
          "text": [
            "ComprasosmoteT:  5371  , NoComprasosmoteT:  5371\n"
          ],
          "name": "stdout"
        },
        {
          "output_type": "stream",
          "text": [
            "/usr/local/lib/python3.7/dist-packages/sklearn/utils/deprecation.py:87: FutureWarning: Function safe_indexing is deprecated; safe_indexing is deprecated in version 0.22 and will be removed in version 0.24.\n",
            "  warnings.warn(msg, category=FutureWarning)\n"
          ],
          "name": "stderr"
        },
        {
          "output_type": "execute_result",
          "data": {
            "text/plain": [
              "array([[  0.        ,   0.        ,   0.        , ...,   0.        ,\n",
              "          0.        ,   1.        ],\n",
              "       [  0.        ,   0.        ,   1.        , ...,   0.        ,\n",
              "          0.        ,   1.        ],\n",
              "       [  0.        ,   0.        ,   0.        , ...,   0.        ,\n",
              "          0.        ,   1.        ],\n",
              "       ...,\n",
              "       [  0.        ,   0.        ,   0.        , ...,   0.        ,\n",
              "          0.        ,   1.        ],\n",
              "       [  0.39437241,   5.52121379,   0.        , ...,   0.60562759,\n",
              "          0.        ,   0.39437241],\n",
              "       [  9.        , 263.00913637,   0.        , ...,   0.        ,\n",
              "          0.        ,   1.        ]])"
            ]
          },
          "metadata": {
            "tags": []
          },
          "execution_count": 20
        }
      ]
    },
    {
      "cell_type": "markdown",
      "metadata": {
        "id": "Xnt0WZMZFAKo"
      },
      "source": [
        "## **Entrenando el módelo.**\n",
        "\n",
        "Se utilizará una **Máquina de Soporte de Vectores (SVM)**, la cual tiene como fundamento técnico crear una línea de división entre las clases (venta o no venta) de modo que la distancia de cada registro en cada clase sea la máxima posible a la línea de decisión.\n",
        "\n",
        "También cabe señalar que se usará el sobremuetreo **Smote**, solo en el set de entrenamiento, esto para dar un poco de variabilidad a las muestras y que esta misma variabilidad pueda ser captada por el modelo."
      ]
    },
    {
      "cell_type": "markdown",
      "metadata": {
        "id": "DQoNXRCbu1ql"
      },
      "source": [
        "#### Solo trabajamos con X_train y y_train\n",
        "\n",
        "Aplico PCA para reducir la dimensión a solo dos variables y realizar un scattertplot para tratar de vizualizar si los cluster se pueden separar de manera lineal o no lineal.\n"
      ]
    },
    {
      "cell_type": "code",
      "metadata": {
        "id": "UCWsQE6Kselo"
      },
      "source": [
        "from sklearn.preprocessing import StandardScaler\n",
        "from sklearn.decomposition import PCA\n",
        "\n",
        "#dataSmote, targetSmote"
      ],
      "execution_count": 21,
      "outputs": []
    },
    {
      "cell_type": "code",
      "metadata": {
        "id": "HegItQqAuj2C"
      },
      "source": [
        "X_normalizaed = StandardScaler().fit(dataSmote).transform(dataSmote)"
      ],
      "execution_count": 22,
      "outputs": []
    },
    {
      "cell_type": "code",
      "metadata": {
        "id": "SU5NHVcuv0XF"
      },
      "source": [
        "pca = PCA(n_components= 2).fit(X_normalizaed)\n",
        "X_pca = pca.transform(X_normalizaed)"
      ],
      "execution_count": 23,
      "outputs": []
    },
    {
      "cell_type": "code",
      "metadata": {
        "colab": {
          "base_uri": "https://localhost:8080/"
        },
        "id": "YHrKrP2kz1gD",
        "outputId": "89a4ba00-de8b-46d5-c7d9-c12a42a1898d"
      },
      "source": [
        "X_pca"
      ],
      "execution_count": 24,
      "outputs": [
        {
          "output_type": "execute_result",
          "data": {
            "text/plain": [
              "array([[-1.19840971, -0.72037306],\n",
              "       [-1.30458794, -1.16901907],\n",
              "       [-2.10494554, -2.35374464],\n",
              "       ...,\n",
              "       [ 0.65083371, -1.13036014],\n",
              "       [ 0.57641286, -0.48995805],\n",
              "       [-0.60535732,  0.68554701]])"
            ]
          },
          "metadata": {
            "tags": []
          },
          "execution_count": 24
        }
      ]
    },
    {
      "cell_type": "code",
      "metadata": {
        "colab": {
          "base_uri": "https://localhost:8080/",
          "height": 202
        },
        "id": "yHwFSW39z3bn",
        "outputId": "4b43b023-a431-4b97-db81-606b537ba14a"
      },
      "source": [
        "df_pca = pd.DataFrame.from_records(X_pca, columns = ['v1', 'v2'])\n",
        "df_pca.head()"
      ],
      "execution_count": 25,
      "outputs": [
        {
          "output_type": "execute_result",
          "data": {
            "text/html": [
              "<div>\n",
              "<style scoped>\n",
              "    .dataframe tbody tr th:only-of-type {\n",
              "        vertical-align: middle;\n",
              "    }\n",
              "\n",
              "    .dataframe tbody tr th {\n",
              "        vertical-align: top;\n",
              "    }\n",
              "\n",
              "    .dataframe thead th {\n",
              "        text-align: right;\n",
              "    }\n",
              "</style>\n",
              "<table border=\"1\" class=\"dataframe\">\n",
              "  <thead>\n",
              "    <tr style=\"text-align: right;\">\n",
              "      <th></th>\n",
              "      <th>v1</th>\n",
              "      <th>v2</th>\n",
              "    </tr>\n",
              "  </thead>\n",
              "  <tbody>\n",
              "    <tr>\n",
              "      <th>0</th>\n",
              "      <td>-1.198410</td>\n",
              "      <td>-0.720373</td>\n",
              "    </tr>\n",
              "    <tr>\n",
              "      <th>1</th>\n",
              "      <td>-1.304588</td>\n",
              "      <td>-1.169019</td>\n",
              "    </tr>\n",
              "    <tr>\n",
              "      <th>2</th>\n",
              "      <td>-2.104946</td>\n",
              "      <td>-2.353745</td>\n",
              "    </tr>\n",
              "    <tr>\n",
              "      <th>3</th>\n",
              "      <td>-1.354015</td>\n",
              "      <td>3.062104</td>\n",
              "    </tr>\n",
              "    <tr>\n",
              "      <th>4</th>\n",
              "      <td>-1.100147</td>\n",
              "      <td>-0.871334</td>\n",
              "    </tr>\n",
              "  </tbody>\n",
              "</table>\n",
              "</div>"
            ],
            "text/plain": [
              "         v1        v2\n",
              "0 -1.198410 -0.720373\n",
              "1 -1.304588 -1.169019\n",
              "2 -2.104946 -2.353745\n",
              "3 -1.354015  3.062104\n",
              "4 -1.100147 -0.871334"
            ]
          },
          "metadata": {
            "tags": []
          },
          "execution_count": 25
        }
      ]
    },
    {
      "cell_type": "code",
      "metadata": {
        "colab": {
          "base_uri": "https://localhost:8080/",
          "height": 294
        },
        "id": "V5misY4Q02tp",
        "outputId": "a9d0b87a-c7a0-4940-d4a3-4e8efc2703d0"
      },
      "source": [
        "sns.scatterplot(x = df_pca['v1'], y = df_pca['v2'], hue = targetSmote ).set_title('Diagrama de dispersión utilizando PCA para encontar clusters');"
      ],
      "execution_count": 32,
      "outputs": [
        {
          "output_type": "display_data",
          "data": {
            "image/png": "[encoded data removed]",
            "text/plain": [
              "<Figure size 432x288 with 1 Axes>"
            ]
          },
          "metadata": {
            "tags": [],
            "needs_background": "light"
          }
        }
      ]
    },
    {
      "cell_type": "markdown",
      "metadata": {
        "id": "VFTeQY4XH4NO"
      },
      "source": [
        "Probamos ajustar el modelo de SVM con los parámetros por defecto en python.\n"
      ]
    },
    {
      "cell_type": "code",
      "metadata": {
        "id": "8CZhPm341K_o"
      },
      "source": [
        "from sklearn.svm import SVC\n",
        "from sklearn.metrics import f1_score, precision_score, recall_score, roc_auc_score"
      ],
      "execution_count": 27,
      "outputs": []
    },
    {
      "cell_type": "code",
      "metadata": {
        "id": "rPMddj9H2Z40"
      },
      "source": [
        "model = SVC()"
      ],
      "execution_count": 35,
      "outputs": []
    },
    {
      "cell_type": "code",
      "metadata": {
        "colab": {
          "base_uri": "https://localhost:8080/"
        },
        "id": "Xl7wkdQu2cOw",
        "outputId": "507efe1f-d9ab-4270-98d2-008585933fe1"
      },
      "source": [
        "model.fit(dataSmote, targetSmote)"
      ],
      "execution_count": 36,
      "outputs": [
        {
          "output_type": "execute_result",
          "data": {
            "text/plain": [
              "SVC(C=1.0, break_ties=False, cache_size=200, class_weight=None, coef0=0.0,\n",
              "    decision_function_shape='ovr', degree=3, gamma='scale', kernel='rbf',\n",
              "    max_iter=-1, probability=False, random_state=None, shrinking=True,\n",
              "    tol=0.001, verbose=False)"
            ]
          },
          "metadata": {
            "tags": []
          },
          "execution_count": 36
        }
      ]
    },
    {
      "cell_type": "code",
      "metadata": {
        "colab": {
          "base_uri": "https://localhost:8080/"
        },
        "id": "gTA2nHFJ2hAu",
        "outputId": "8595fbaa-2268-4e8c-c86f-efb65fb1297a"
      },
      "source": [
        "print('Precision en el set de entranamiento: ', precision_score(targetSmote, model.predict(dataSmote)))\n",
        "print('Recall en el set de entranamiento: ', recall_score(targetSmote, model.predict(dataSmote)))\n",
        "print('Precision en el set de prueba: ', precision_score(y_test, model.predict(X_test)))\n",
        "print('Recall en el set de prueba: ', recall_score(y_test, model.predict(X_test)))\n",
        "print('-'*100)\n",
        "print('f1_score en el set de prueba', f1_score(y_test, model.predict(X_test)))"
      ],
      "execution_count": 37,
      "outputs": [
        {
          "output_type": "stream",
          "text": [
            "Precision en el set de entranamiento:  0.6911811524992041\n",
            "Recall en el set de entranamiento:  0.7900291120815138\n",
            "Precision en el set de prueba:  0.2978494623655914\n",
            "Recall en el set de prueba:  0.7780898876404494\n",
            "----------------------------------------------------------------------------------------------------\n",
            "f1_score en el set de prueba 0.4307931570762053\n"
          ],
          "name": "stdout"
        }
      ]
    },
    {
      "cell_type": "code",
      "metadata": {
        "id": "SxunIFjy2ovM"
      },
      "source": [
        "from sklearn.metrics import confusion_matrix, f1_score, precision_score, recall_score, "
      ],
      "execution_count": null,
      "outputs": []
    },
    {
      "cell_type": "code",
      "metadata": {
        "id": "R8HDVJgg3I0_"
      },
      "source": [
        "predictions = model.predict(X_test)"
      ],
      "execution_count": null,
      "outputs": []
    },
    {
      "cell_type": "code",
      "metadata": {
        "colab": {
          "base_uri": "https://localhost:8080/",
          "height": 278
        },
        "id": "xQMQWsR430CR",
        "outputId": "e6799571-6582-4518-cf66-27a0abca9035"
      },
      "source": [
        "plot_confusion_matrix(model, X_test, y_test, values_format='.6g')  \n",
        "plt.show()"
      ],
      "execution_count": 41,
      "outputs": [
        {
          "output_type": "display_data",
          "data": {
            "image/png": "[encoded data removed]",
            "text/plain": [
              "<Figure size 432x288 with 2 Axes>"
            ]
          },
          "metadata": {
            "tags": [],
            "needs_background": "light"
          }
        }
      ]
    },
    {
      "cell_type": "markdown",
      "metadata": {
        "id": "drcGGjdJJHni"
      },
      "source": [
        "Tomando como metrica de optimización AUC, el área bajo la curva con este ajuste es 0.70 en el set de prueba, cosa que no esta nada mal."
      ]
    },
    {
      "cell_type": "code",
      "metadata": {
        "colab": {
          "base_uri": "https://localhost:8080/"
        },
        "id": "W24i6Rj21Q0j",
        "outputId": "526f9c67-d09d-48d0-8fb3-d6e4999e4dc7"
      },
      "source": [
        "print('AUC: ', roc_auc_score(y_test, predictions))"
      ],
      "execution_count": null,
      "outputs": [
        {
          "output_type": "stream",
          "text": [
            "AUC:  0.7078573744528552\n"
          ],
          "name": "stdout"
        }
      ]
    },
    {
      "cell_type": "markdown",
      "metadata": {
        "id": "UrhYpHrJ9TE-"
      },
      "source": [
        "#### Hiperparametrización optimizando la **f1_macro**\n",
        "\n",
        "Hiperparametrizamos el modelo, para probar con diversos valor de regularización. "
      ]
    },
    {
      "cell_type": "code",
      "metadata": {
        "id": "V9RrZc7b9SVO"
      },
      "source": [
        "from sklearn.model_selection import GridSearchCV"
      ],
      "execution_count": null,
      "outputs": []
    },
    {
      "cell_type": "code",
      "metadata": {
        "id": "ye36upjb5XAs"
      },
      "source": [
        "model_basic = SVC()\n",
        "#dataSmote, targetSmote"
      ],
      "execution_count": null,
      "outputs": []
    },
    {
      "cell_type": "code",
      "metadata": {
        "id": "J2v0Gycr8L1N"
      },
      "source": [
        "params = {'C': [0.01, 0.1, 1, 5, 10, 15, 25, 50, 75, 100, 125, 145, 160, 175, 200]}"
      ],
      "execution_count": null,
      "outputs": []
    },
    {
      "cell_type": "code",
      "metadata": {
        "id": "_d8ysqZq9wzY"
      },
      "source": [
        "final = GridSearchCV(model_basic, param_grid= params, cv = 3, scoring= 'f1_macro')"
      ],
      "execution_count": null,
      "outputs": []
    },
    {
      "cell_type": "code",
      "metadata": {
        "colab": {
          "base_uri": "https://localhost:8080/"
        },
        "id": "EMvQk0WcbvHi",
        "outputId": "d72875b4-8248-40ec-cadb-f90c7d31fca6"
      },
      "source": [
        "import sklearn\n",
        "sklearn.metrics.SCORERS.keys()\n"
      ],
      "execution_count": null,
      "outputs": [
        {
          "output_type": "execute_result",
          "data": {
            "text/plain": [
              "dict_keys(['explained_variance', 'r2', 'max_error', 'neg_median_absolute_error', 'neg_mean_absolute_error', 'neg_mean_squared_error', 'neg_mean_squared_log_error', 'neg_root_mean_squared_error', 'neg_mean_poisson_deviance', 'neg_mean_gamma_deviance', 'accuracy', 'roc_auc', 'roc_auc_ovr', 'roc_auc_ovo', 'roc_auc_ovr_weighted', 'roc_auc_ovo_weighted', 'balanced_accuracy', 'average_precision', 'neg_log_loss', 'neg_brier_score', 'adjusted_rand_score', 'homogeneity_score', 'completeness_score', 'v_measure_score', 'mutual_info_score', 'adjusted_mutual_info_score', 'normalized_mutual_info_score', 'fowlkes_mallows_score', 'precision', 'precision_macro', 'precision_micro', 'precision_samples', 'precision_weighted', 'recall', 'recall_macro', 'recall_micro', 'recall_samples', 'recall_weighted', 'f1', 'f1_macro', 'f1_micro', 'f1_samples', 'f1_weighted', 'jaccard', 'jaccard_macro', 'jaccard_micro', 'jaccard_samples', 'jaccard_weighted'])"
            ]
          },
          "metadata": {
            "tags": []
          },
          "execution_count": 148
        }
      ]
    },
    {
      "cell_type": "code",
      "metadata": {
        "colab": {
          "base_uri": "https://localhost:8080/"
        },
        "id": "UHE6siDu-omg",
        "outputId": "57228ecb-61f9-450a-f396-fab773ea5175"
      },
      "source": [
        "final.fit(dataSmote, targetSmote)"
      ],
      "execution_count": null,
      "outputs": [
        {
          "output_type": "execute_result",
          "data": {
            "text/plain": [
              "GridSearchCV(cv=3, error_score=nan,\n",
              "             estimator=SVC(C=1.0, break_ties=False, cache_size=200,\n",
              "                           class_weight=None, coef0=0.0,\n",
              "                           decision_function_shape='ovr', degree=3,\n",
              "                           gamma='scale', kernel='rbf', max_iter=-1,\n",
              "                           probability=False, random_state=None, shrinking=True,\n",
              "                           tol=0.001, verbose=False),\n",
              "             iid='deprecated', n_jobs=None,\n",
              "             param_grid={'C': [0.01, 0.1, 1, 5, 10, 15, 25, 50, 75, 100, 125,\n",
              "                               145, 160, 175, 200]},\n",
              "             pre_dispatch='2*n_jobs', refit=True, return_train_score=False,\n",
              "             scoring='f1_macro', verbose=0)"
            ]
          },
          "metadata": {
            "tags": []
          },
          "execution_count": 149
        }
      ]
    },
    {
      "cell_type": "code",
      "metadata": {
        "colab": {
          "base_uri": "https://localhost:8080/"
        },
        "id": "vPd_XlG0B5jO",
        "outputId": "2c6568e5-6d17-4c02-f632-51ef1a02f2d8"
      },
      "source": [
        "final.best_params_"
      ],
      "execution_count": null,
      "outputs": [
        {
          "output_type": "execute_result",
          "data": {
            "text/plain": [
              "{'C': 200}"
            ]
          },
          "metadata": {
            "tags": []
          },
          "execution_count": 150
        }
      ]
    },
    {
      "cell_type": "code",
      "metadata": {
        "colab": {
          "base_uri": "https://localhost:8080/"
        },
        "id": "WqSlfuZoGFvt",
        "outputId": "fd3dcaa3-2707-4613-a040-bfbb7689b79e"
      },
      "source": [
        "final."
      ],
      "execution_count": null,
      "outputs": [
        {
          "output_type": "execute_result",
          "data": {
            "text/plain": [
              "make_scorer(f1_score, average=binary)"
            ]
          },
          "metadata": {
            "tags": []
          },
          "execution_count": 158
        }
      ]
    },
    {
      "cell_type": "code",
      "metadata": {
        "id": "oLcFycNb-xb_"
      },
      "source": [
        "pred = final.predict(X_test)"
      ],
      "execution_count": null,
      "outputs": []
    },
    {
      "cell_type": "code",
      "metadata": {
        "colab": {
          "base_uri": "https://localhost:8080/"
        },
        "id": "hMgWPwif_hb6",
        "outputId": "fd6bf7f2-bcae-4386-996d-8cdb915c7485"
      },
      "source": [
        "print('Precision en el set de entranamiento: ', precision_score(targetSmote, final.predict(dataSmote)))\n",
        "print('Recall en el set de entranamiento: ', recall_score(targetSmote, final.predict(dataSmote)))\n",
        "print('Precision en el set de prueba: ', precision_score(y_test, final.predict(X_test)))\n",
        "print('Recall en el set de prueba: ', recall_score(y_test, final.predict(X_test)))\n",
        "print('-'*100)\n",
        "print('f1_score: ', f1_score(y_test, final.predict(X_test)))"
      ],
      "execution_count": null,
      "outputs": [
        {
          "output_type": "stream",
          "text": [
            "Precision en el set de entranamiento:  0.8861043194784026\n",
            "Recall en el set de entranamiento:  0.7913027656477438\n",
            "Precision en el set de prueba:  0.5820224719101124\n",
            "Recall en el set de prueba:  0.7275280898876404\n",
            "----------------------------------------------------------------------------------------------------\n",
            "f1_score:  0.6466916354556804\n"
          ],
          "name": "stdout"
        }
      ]
    },
    {
      "cell_type": "code",
      "metadata": {
        "colab": {
          "base_uri": "https://localhost:8080/",
          "height": 278
        },
        "id": "KE3jgMoF_ldG",
        "outputId": "489efedb-79de-49d8-c95f-bee645c06f86"
      },
      "source": [
        "plot_confusion_matrix(final, X_test, y_test, values_format='.6g', normalize= 'true')  \n",
        "plt.show()"
      ],
      "execution_count": null,
      "outputs": [
        {
          "output_type": "display_data",
          "data": {
            "image/png": "[encoded data removed]",
            "text/plain": [
              "<Figure size 432x288 with 2 Axes>"
            ]
          },
          "metadata": {
            "tags": [],
            "needs_background": "light"
          }
        }
      ]
    },
    {
      "cell_type": "markdown",
      "metadata": {
        "id": "Qh2MWcHRJoCf"
      },
      "source": [
        "AUnque se optimizó con un valor de regularización un poco grande el AUC presentador por este modelo en el set de prueba mejoró a 0.81, lo cual es un desempeño excelente."
      ]
    },
    {
      "cell_type": "code",
      "metadata": {
        "colab": {
          "base_uri": "https://localhost:8080/"
        },
        "id": "Uvg8dKvr_tlL",
        "outputId": "fec14d8d-8c4a-4e46-d20e-6c67c4c8a0ce"
      },
      "source": [
        "print('AUC: ', roc_auc_score(y_test, pred))"
      ],
      "execution_count": null,
      "outputs": [
        {
          "output_type": "stream",
          "text": [
            "AUC:  0.8121547219693475\n"
          ],
          "name": "stdout"
        }
      ]
    },
    {
      "cell_type": "markdown",
      "metadata": {
        "id": "VzcvRTSY2qOM"
      },
      "source": [
        "### Probando en el set de prueba"
      ]
    },
    {
      "cell_type": "markdown",
      "metadata": {
        "id": "dcG2rytBJ-SF"
      },
      "source": [
        "Ya solo queda probarlo con ejemplos nuevos para la competencia."
      ]
    },
    {
      "cell_type": "code",
      "metadata": {
        "id": "ZMHYw9KIjnqR"
      },
      "source": [
        "link = '/content/drive/MyDrive/DataSource.AI/Dataset - Intencion de compra/Test.csv'\n"
      ],
      "execution_count": null,
      "outputs": []
    },
    {
      "cell_type": "code",
      "metadata": {
        "id": "Y15ewPf220vq"
      },
      "source": [
        "test = pd.read_csv(link, index_col= 0)"
      ],
      "execution_count": null,
      "outputs": []
    },
    {
      "cell_type": "code",
      "metadata": {
        "colab": {
          "base_uri": "https://localhost:8080/",
          "height": 253
        },
        "id": "M_dKiqZA26nY",
        "outputId": "8fece6e9-bf68-4399-acd2-a65d95ec117a"
      },
      "source": [
        "test.head()"
      ],
      "execution_count": null,
      "outputs": [
        {
          "output_type": "execute_result",
          "data": {
            "text/html": [
              "<div>\n",
              "<style scoped>\n",
              "    .dataframe tbody tr th:only-of-type {\n",
              "        vertical-align: middle;\n",
              "    }\n",
              "\n",
              "    .dataframe tbody tr th {\n",
              "        vertical-align: top;\n",
              "    }\n",
              "\n",
              "    .dataframe thead th {\n",
              "        text-align: right;\n",
              "    }\n",
              "</style>\n",
              "<table border=\"1\" class=\"dataframe\">\n",
              "  <thead>\n",
              "    <tr style=\"text-align: right;\">\n",
              "      <th></th>\n",
              "      <th>Administrative</th>\n",
              "      <th>Administrative_Duration</th>\n",
              "      <th>Informational</th>\n",
              "      <th>Informational_Duration</th>\n",
              "      <th>ProductRelated</th>\n",
              "      <th>ProductRelated_Duration</th>\n",
              "      <th>BounceRates</th>\n",
              "      <th>ExitRates</th>\n",
              "      <th>PageValues</th>\n",
              "      <th>SpecialDay</th>\n",
              "      <th>Month</th>\n",
              "      <th>OperatingSystems</th>\n",
              "      <th>Browser</th>\n",
              "      <th>Region</th>\n",
              "      <th>TrafficType</th>\n",
              "      <th>VisitorType</th>\n",
              "      <th>Weekend</th>\n",
              "    </tr>\n",
              "    <tr>\n",
              "      <th>id</th>\n",
              "      <th></th>\n",
              "      <th></th>\n",
              "      <th></th>\n",
              "      <th></th>\n",
              "      <th></th>\n",
              "      <th></th>\n",
              "      <th></th>\n",
              "      <th></th>\n",
              "      <th></th>\n",
              "      <th></th>\n",
              "      <th></th>\n",
              "      <th></th>\n",
              "      <th></th>\n",
              "      <th></th>\n",
              "      <th></th>\n",
              "      <th></th>\n",
              "      <th></th>\n",
              "    </tr>\n",
              "  </thead>\n",
              "  <tbody>\n",
              "    <tr>\n",
              "      <th>1</th>\n",
              "      <td>3</td>\n",
              "      <td>142.500000</td>\n",
              "      <td>0</td>\n",
              "      <td>0.00</td>\n",
              "      <td>48</td>\n",
              "      <td>1052.255952</td>\n",
              "      <td>0.004348</td>\n",
              "      <td>0.013043</td>\n",
              "      <td>0.000000</td>\n",
              "      <td>0.0</td>\n",
              "      <td>Nov</td>\n",
              "      <td>1</td>\n",
              "      <td>8</td>\n",
              "      <td>6</td>\n",
              "      <td>11</td>\n",
              "      <td>Returning_Visitor</td>\n",
              "      <td>False</td>\n",
              "    </tr>\n",
              "    <tr>\n",
              "      <th>2</th>\n",
              "      <td>6</td>\n",
              "      <td>437.391304</td>\n",
              "      <td>2</td>\n",
              "      <td>235.55</td>\n",
              "      <td>83</td>\n",
              "      <td>2503.881781</td>\n",
              "      <td>0.002198</td>\n",
              "      <td>0.004916</td>\n",
              "      <td>2.086218</td>\n",
              "      <td>0.0</td>\n",
              "      <td>Mar</td>\n",
              "      <td>2</td>\n",
              "      <td>2</td>\n",
              "      <td>3</td>\n",
              "      <td>2</td>\n",
              "      <td>Returning_Visitor</td>\n",
              "      <td>False</td>\n",
              "    </tr>\n",
              "    <tr>\n",
              "      <th>3</th>\n",
              "      <td>1</td>\n",
              "      <td>41.125000</td>\n",
              "      <td>0</td>\n",
              "      <td>0.00</td>\n",
              "      <td>126</td>\n",
              "      <td>4310.004668</td>\n",
              "      <td>0.000688</td>\n",
              "      <td>0.012823</td>\n",
              "      <td>3.451072</td>\n",
              "      <td>0.0</td>\n",
              "      <td>Nov</td>\n",
              "      <td>2</td>\n",
              "      <td>2</td>\n",
              "      <td>2</td>\n",
              "      <td>2</td>\n",
              "      <td>Returning_Visitor</td>\n",
              "      <td>False</td>\n",
              "    </tr>\n",
              "    <tr>\n",
              "      <th>4</th>\n",
              "      <td>2</td>\n",
              "      <td>141.000000</td>\n",
              "      <td>0</td>\n",
              "      <td>0.00</td>\n",
              "      <td>10</td>\n",
              "      <td>606.666667</td>\n",
              "      <td>0.008333</td>\n",
              "      <td>0.026389</td>\n",
              "      <td>36.672294</td>\n",
              "      <td>0.0</td>\n",
              "      <td>Aug</td>\n",
              "      <td>2</td>\n",
              "      <td>5</td>\n",
              "      <td>7</td>\n",
              "      <td>4</td>\n",
              "      <td>Returning_Visitor</td>\n",
              "      <td>False</td>\n",
              "    </tr>\n",
              "    <tr>\n",
              "      <th>5</th>\n",
              "      <td>18</td>\n",
              "      <td>608.140000</td>\n",
              "      <td>6</td>\n",
              "      <td>733.80</td>\n",
              "      <td>168</td>\n",
              "      <td>4948.398759</td>\n",
              "      <td>0.006632</td>\n",
              "      <td>0.013528</td>\n",
              "      <td>10.150644</td>\n",
              "      <td>0.0</td>\n",
              "      <td>Aug</td>\n",
              "      <td>2</td>\n",
              "      <td>2</td>\n",
              "      <td>3</td>\n",
              "      <td>1</td>\n",
              "      <td>Returning_Visitor</td>\n",
              "      <td>True</td>\n",
              "    </tr>\n",
              "  </tbody>\n",
              "</table>\n",
              "</div>"
            ],
            "text/plain": [
              "    Administrative  Administrative_Duration  ...        VisitorType  Weekend\n",
              "id                                           ...                            \n",
              "1                3               142.500000  ...  Returning_Visitor    False\n",
              "2                6               437.391304  ...  Returning_Visitor    False\n",
              "3                1                41.125000  ...  Returning_Visitor    False\n",
              "4                2               141.000000  ...  Returning_Visitor    False\n",
              "5               18               608.140000  ...  Returning_Visitor     True\n",
              "\n",
              "[5 rows x 17 columns]"
            ]
          },
          "metadata": {
            "tags": []
          },
          "execution_count": 75
        }
      ]
    },
    {
      "cell_type": "code",
      "metadata": {
        "colab": {
          "base_uri": "https://localhost:8080/"
        },
        "id": "If0aKWzE28EW",
        "outputId": "deb9d996-9e4c-4a6b-dfb9-6f0e00e1f2d8"
      },
      "source": [
        "test.columns"
      ],
      "execution_count": null,
      "outputs": [
        {
          "output_type": "execute_result",
          "data": {
            "text/plain": [
              "Index(['Administrative', 'Administrative_Duration', 'Informational',\n",
              "       'Informational_Duration', 'ProductRelated', 'ProductRelated_Duration',\n",
              "       'BounceRates', 'ExitRates', 'PageValues', 'SpecialDay', 'Month',\n",
              "       'OperatingSystems', 'Browser', 'Region', 'TrafficType', 'VisitorType',\n",
              "       'Weekend'],\n",
              "      dtype='object')"
            ]
          },
          "metadata": {
            "tags": []
          },
          "execution_count": 76
        }
      ]
    },
    {
      "cell_type": "code",
      "metadata": {
        "id": "Q16n3bsg3CPA"
      },
      "source": [
        "test = test[['Administrative', 'Administrative_Duration', 'Informational',\n",
        "       'Informational_Duration', 'ProductRelated', 'ProductRelated_Duration',\n",
        "       'BounceRates', 'ExitRates', 'PageValues', 'SpecialDay',\n",
        "       'OperatingSystems', 'Browser', 'Region', 'TrafficType', 'VisitorType',\n",
        "       'Weekend']]"
      ],
      "execution_count": null,
      "outputs": []
    },
    {
      "cell_type": "code",
      "metadata": {
        "id": "E9VHDrLd3IHO"
      },
      "source": [
        "test = pd.get_dummies(test)"
      ],
      "execution_count": null,
      "outputs": []
    },
    {
      "cell_type": "code",
      "metadata": {
        "colab": {
          "base_uri": "https://localhost:8080/",
          "height": 253
        },
        "id": "NTvFASgZ3MPl",
        "outputId": "d73ac125-cc0e-42a4-8568-ed7cca644f8a"
      },
      "source": [
        "test.head()"
      ],
      "execution_count": null,
      "outputs": [
        {
          "output_type": "execute_result",
          "data": {
            "text/html": [
              "<div>\n",
              "<style scoped>\n",
              "    .dataframe tbody tr th:only-of-type {\n",
              "        vertical-align: middle;\n",
              "    }\n",
              "\n",
              "    .dataframe tbody tr th {\n",
              "        vertical-align: top;\n",
              "    }\n",
              "\n",
              "    .dataframe thead th {\n",
              "        text-align: right;\n",
              "    }\n",
              "</style>\n",
              "<table border=\"1\" class=\"dataframe\">\n",
              "  <thead>\n",
              "    <tr style=\"text-align: right;\">\n",
              "      <th></th>\n",
              "      <th>Administrative</th>\n",
              "      <th>Administrative_Duration</th>\n",
              "      <th>Informational</th>\n",
              "      <th>Informational_Duration</th>\n",
              "      <th>ProductRelated</th>\n",
              "      <th>ProductRelated_Duration</th>\n",
              "      <th>BounceRates</th>\n",
              "      <th>ExitRates</th>\n",
              "      <th>PageValues</th>\n",
              "      <th>SpecialDay</th>\n",
              "      <th>OperatingSystems</th>\n",
              "      <th>Browser</th>\n",
              "      <th>Region</th>\n",
              "      <th>TrafficType</th>\n",
              "      <th>Weekend</th>\n",
              "      <th>VisitorType_New_Visitor</th>\n",
              "      <th>VisitorType_Other</th>\n",
              "      <th>VisitorType_Returning_Visitor</th>\n",
              "    </tr>\n",
              "    <tr>\n",
              "      <th>id</th>\n",
              "      <th></th>\n",
              "      <th></th>\n",
              "      <th></th>\n",
              "      <th></th>\n",
              "      <th></th>\n",
              "      <th></th>\n",
              "      <th></th>\n",
              "      <th></th>\n",
              "      <th></th>\n",
              "      <th></th>\n",
              "      <th></th>\n",
              "      <th></th>\n",
              "      <th></th>\n",
              "      <th></th>\n",
              "      <th></th>\n",
              "      <th></th>\n",
              "      <th></th>\n",
              "      <th></th>\n",
              "    </tr>\n",
              "  </thead>\n",
              "  <tbody>\n",
              "    <tr>\n",
              "      <th>1</th>\n",
              "      <td>3</td>\n",
              "      <td>142.500000</td>\n",
              "      <td>0</td>\n",
              "      <td>0.00</td>\n",
              "      <td>48</td>\n",
              "      <td>1052.255952</td>\n",
              "      <td>0.004348</td>\n",
              "      <td>0.013043</td>\n",
              "      <td>0.000000</td>\n",
              "      <td>0.0</td>\n",
              "      <td>1</td>\n",
              "      <td>8</td>\n",
              "      <td>6</td>\n",
              "      <td>11</td>\n",
              "      <td>False</td>\n",
              "      <td>0</td>\n",
              "      <td>0</td>\n",
              "      <td>1</td>\n",
              "    </tr>\n",
              "    <tr>\n",
              "      <th>2</th>\n",
              "      <td>6</td>\n",
              "      <td>437.391304</td>\n",
              "      <td>2</td>\n",
              "      <td>235.55</td>\n",
              "      <td>83</td>\n",
              "      <td>2503.881781</td>\n",
              "      <td>0.002198</td>\n",
              "      <td>0.004916</td>\n",
              "      <td>2.086218</td>\n",
              "      <td>0.0</td>\n",
              "      <td>2</td>\n",
              "      <td>2</td>\n",
              "      <td>3</td>\n",
              "      <td>2</td>\n",
              "      <td>False</td>\n",
              "      <td>0</td>\n",
              "      <td>0</td>\n",
              "      <td>1</td>\n",
              "    </tr>\n",
              "    <tr>\n",
              "      <th>3</th>\n",
              "      <td>1</td>\n",
              "      <td>41.125000</td>\n",
              "      <td>0</td>\n",
              "      <td>0.00</td>\n",
              "      <td>126</td>\n",
              "      <td>4310.004668</td>\n",
              "      <td>0.000688</td>\n",
              "      <td>0.012823</td>\n",
              "      <td>3.451072</td>\n",
              "      <td>0.0</td>\n",
              "      <td>2</td>\n",
              "      <td>2</td>\n",
              "      <td>2</td>\n",
              "      <td>2</td>\n",
              "      <td>False</td>\n",
              "      <td>0</td>\n",
              "      <td>0</td>\n",
              "      <td>1</td>\n",
              "    </tr>\n",
              "    <tr>\n",
              "      <th>4</th>\n",
              "      <td>2</td>\n",
              "      <td>141.000000</td>\n",
              "      <td>0</td>\n",
              "      <td>0.00</td>\n",
              "      <td>10</td>\n",
              "      <td>606.666667</td>\n",
              "      <td>0.008333</td>\n",
              "      <td>0.026389</td>\n",
              "      <td>36.672294</td>\n",
              "      <td>0.0</td>\n",
              "      <td>2</td>\n",
              "      <td>5</td>\n",
              "      <td>7</td>\n",
              "      <td>4</td>\n",
              "      <td>False</td>\n",
              "      <td>0</td>\n",
              "      <td>0</td>\n",
              "      <td>1</td>\n",
              "    </tr>\n",
              "    <tr>\n",
              "      <th>5</th>\n",
              "      <td>18</td>\n",
              "      <td>608.140000</td>\n",
              "      <td>6</td>\n",
              "      <td>733.80</td>\n",
              "      <td>168</td>\n",
              "      <td>4948.398759</td>\n",
              "      <td>0.006632</td>\n",
              "      <td>0.013528</td>\n",
              "      <td>10.150644</td>\n",
              "      <td>0.0</td>\n",
              "      <td>2</td>\n",
              "      <td>2</td>\n",
              "      <td>3</td>\n",
              "      <td>1</td>\n",
              "      <td>True</td>\n",
              "      <td>0</td>\n",
              "      <td>0</td>\n",
              "      <td>1</td>\n",
              "    </tr>\n",
              "  </tbody>\n",
              "</table>\n",
              "</div>"
            ],
            "text/plain": [
              "    Administrative  ...  VisitorType_Returning_Visitor\n",
              "id                  ...                               \n",
              "1                3  ...                              1\n",
              "2                6  ...                              1\n",
              "3                1  ...                              1\n",
              "4                2  ...                              1\n",
              "5               18  ...                              1\n",
              "\n",
              "[5 rows x 18 columns]"
            ]
          },
          "metadata": {
            "tags": []
          },
          "execution_count": 79
        }
      ]
    },
    {
      "cell_type": "code",
      "metadata": {
        "colab": {
          "base_uri": "https://localhost:8080/"
        },
        "id": "lBUHvrps3NyE",
        "outputId": "d478f747-2392-4141-b5e1-a446281d83a4"
      },
      "source": [
        "X.columns == test.columns"
      ],
      "execution_count": null,
      "outputs": [
        {
          "output_type": "execute_result",
          "data": {
            "text/plain": [
              "array([ True,  True,  True,  True,  True,  True,  True,  True,  True,\n",
              "        True,  True,  True,  True,  True,  True,  True,  True,  True])"
            ]
          },
          "metadata": {
            "tags": []
          },
          "execution_count": 80
        }
      ]
    },
    {
      "cell_type": "code",
      "metadata": {
        "id": "EcsGMmT83R5N"
      },
      "source": [
        "test_predictions = final.predict(test)"
      ],
      "execution_count": null,
      "outputs": []
    },
    {
      "cell_type": "code",
      "metadata": {
        "colab": {
          "base_uri": "https://localhost:8080/"
        },
        "id": "mQ5-U8gB4CFR",
        "outputId": "edba243a-c8c9-4357-a010-7c9e82cbb2bf"
      },
      "source": [
        "test_predictions.shape"
      ],
      "execution_count": null,
      "outputs": [
        {
          "output_type": "execute_result",
          "data": {
            "text/plain": [
              "(3699,)"
            ]
          },
          "metadata": {
            "tags": []
          },
          "execution_count": 131
        }
      ]
    },
    {
      "cell_type": "code",
      "metadata": {
        "id": "cikdp_g73eX4"
      },
      "source": [
        "id = []\n",
        "for i in range(1, len(test_predictions)+1):\n",
        "  id.append(i)\n"
      ],
      "execution_count": null,
      "outputs": []
    },
    {
      "cell_type": "code",
      "metadata": {
        "colab": {
          "base_uri": "https://localhost:8080/"
        },
        "id": "LBfjM2qN5iwJ",
        "outputId": "52efc32c-d798-4f59-d443-b34b9ddc6637"
      },
      "source": [
        "len(test_predictions)"
      ],
      "execution_count": null,
      "outputs": [
        {
          "output_type": "execute_result",
          "data": {
            "text/plain": [
              "3699"
            ]
          },
          "metadata": {
            "tags": []
          },
          "execution_count": 133
        }
      ]
    },
    {
      "cell_type": "code",
      "metadata": {
        "colab": {
          "base_uri": "https://localhost:8080/"
        },
        "id": "EoEcByI93-7S",
        "outputId": "18b65d08-b2e8-4dc5-d7c8-7af4d3d7eba1"
      },
      "source": [
        "len(id)"
      ],
      "execution_count": null,
      "outputs": [
        {
          "output_type": "execute_result",
          "data": {
            "text/plain": [
              "3699"
            ]
          },
          "metadata": {
            "tags": []
          },
          "execution_count": 134
        }
      ]
    },
    {
      "cell_type": "code",
      "metadata": {
        "id": "sMZI1P7i4HZw"
      },
      "source": [
        "test_df = pd.DataFrame({'id' : id, 'revenue': test_predictions})"
      ],
      "execution_count": null,
      "outputs": []
    },
    {
      "cell_type": "code",
      "metadata": {
        "colab": {
          "base_uri": "https://localhost:8080/",
          "height": 416
        },
        "id": "d1B4Nlcg4bcL",
        "outputId": "bf94009f-cbb0-44cc-86bf-b820e452bc8e"
      },
      "source": [
        "test_df"
      ],
      "execution_count": null,
      "outputs": [
        {
          "output_type": "execute_result",
          "data": {
            "text/html": [
              "<div>\n",
              "<style scoped>\n",
              "    .dataframe tbody tr th:only-of-type {\n",
              "        vertical-align: middle;\n",
              "    }\n",
              "\n",
              "    .dataframe tbody tr th {\n",
              "        vertical-align: top;\n",
              "    }\n",
              "\n",
              "    .dataframe thead th {\n",
              "        text-align: right;\n",
              "    }\n",
              "</style>\n",
              "<table border=\"1\" class=\"dataframe\">\n",
              "  <thead>\n",
              "    <tr style=\"text-align: right;\">\n",
              "      <th></th>\n",
              "      <th>id</th>\n",
              "      <th>revenue</th>\n",
              "    </tr>\n",
              "  </thead>\n",
              "  <tbody>\n",
              "    <tr>\n",
              "      <th>0</th>\n",
              "      <td>1</td>\n",
              "      <td>0</td>\n",
              "    </tr>\n",
              "    <tr>\n",
              "      <th>1</th>\n",
              "      <td>2</td>\n",
              "      <td>1</td>\n",
              "    </tr>\n",
              "    <tr>\n",
              "      <th>2</th>\n",
              "      <td>3</td>\n",
              "      <td>0</td>\n",
              "    </tr>\n",
              "    <tr>\n",
              "      <th>3</th>\n",
              "      <td>4</td>\n",
              "      <td>1</td>\n",
              "    </tr>\n",
              "    <tr>\n",
              "      <th>4</th>\n",
              "      <td>5</td>\n",
              "      <td>1</td>\n",
              "    </tr>\n",
              "    <tr>\n",
              "      <th>...</th>\n",
              "      <td>...</td>\n",
              "      <td>...</td>\n",
              "    </tr>\n",
              "    <tr>\n",
              "      <th>3694</th>\n",
              "      <td>3695</td>\n",
              "      <td>0</td>\n",
              "    </tr>\n",
              "    <tr>\n",
              "      <th>3695</th>\n",
              "      <td>3696</td>\n",
              "      <td>1</td>\n",
              "    </tr>\n",
              "    <tr>\n",
              "      <th>3696</th>\n",
              "      <td>3697</td>\n",
              "      <td>0</td>\n",
              "    </tr>\n",
              "    <tr>\n",
              "      <th>3697</th>\n",
              "      <td>3698</td>\n",
              "      <td>1</td>\n",
              "    </tr>\n",
              "    <tr>\n",
              "      <th>3698</th>\n",
              "      <td>3699</td>\n",
              "      <td>0</td>\n",
              "    </tr>\n",
              "  </tbody>\n",
              "</table>\n",
              "<p>3699 rows × 2 columns</p>\n",
              "</div>"
            ],
            "text/plain": [
              "        id  revenue\n",
              "0        1        0\n",
              "1        2        1\n",
              "2        3        0\n",
              "3        4        1\n",
              "4        5        1\n",
              "...    ...      ...\n",
              "3694  3695        0\n",
              "3695  3696        1\n",
              "3696  3697        0\n",
              "3697  3698        1\n",
              "3698  3699        0\n",
              "\n",
              "[3699 rows x 2 columns]"
            ]
          },
          "metadata": {
            "tags": []
          },
          "execution_count": 157
        }
      ]
    },
    {
      "cell_type": "code",
      "metadata": {
        "id": "nFKtumE94gaY"
      },
      "source": [
        "test_df.to_csv('/content/drive/MyDrive/DataSource.AI/Dataset - Intencion de compra/test_final_6.csv', index= 'id')"
      ],
      "execution_count": null,
      "outputs": []
    },
    {
      "cell_type": "code",
      "metadata": {
        "id": "qsBdAr5P6K4b"
      },
      "source": [
        ""
      ],
      "execution_count": null,
      "outputs": []
    },
    {
      "cell_type": "markdown",
      "metadata": {
        "id": "fbLvhwwiV_wH"
      },
      "source": [
        "## **Nota**:\n",
        "\n",
        "Desempeño de muestreo en ambos sets (SMOTE), f1_macro : 0.586028409367545\n",
        "\n",
        "Desempeño de muestreo solo en train set (SMOTE) C = 100, gamma = 0.01, f1_macro : 0.60391377880048\n",
        "\n",
        "Desempeño de muestreo solo en train set (SMOTE) C = 100, f1_macro : 0.774231853278021\n",
        "\n",
        "Desempeño de muestreo solo en train set (SMOTE) C = 145, f1_macro : 0.7815335791417234\n",
        "\n",
        "Desempeño de muestreo solo en train set (SMOTE) C = 200, f1_macro : 0.782270935694076, 0.7800861244079026  Random_state = 1"
      ]
    },
    {
      "cell_type": "code",
      "metadata": {
        "id": "HJTcXea8WOdt"
      },
      "source": [
        ""
      ],
      "execution_count": null,
      "outputs": []
    }
  ]
}